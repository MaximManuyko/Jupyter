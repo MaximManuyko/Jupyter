{
 "cells": [
  {
   "cell_type": "markdown",
   "id": "1c56d565-dd5a-4bc2-966a-824969278a07",
   "metadata": {},
   "source": [
    "# Отчет о взаимодействии Netflix"
   ]
  },
  {
   "cell_type": "markdown",
   "id": "75df13a4-ccf3-457f-9b33-6ecd784fe02a",
   "metadata": {},
   "source": [
    "https://www.kaggle.com/datasets/konradb/netflix-engagement-report"
   ]
  },
  {
   "cell_type": "markdown",
   "id": "ec63239f-22e2-44dc-8dbf-7c20b288a691",
   "metadata": {},
   "source": [
    "![Alt text](Pictures/dataset-cover-4.jpg)"
   ]
  },
  {
   "cell_type": "markdown",
   "id": "8a50d0dd-9ebb-4ce0-9bc4-2b5128f33c02",
   "metadata": {},
   "source": [
    "**О наборе данных**\n",
    "Со страницы отчета:\n",
    "\n",
    "С момента запуска наших еженедельных топ-10 и самых популярных списков в 2021 году Netflix предоставил больше информации о том, что смотрят люди, чем любой другой стример, кроме YouTube. И теперь мы считаем, что пришло время идти дальше.\n",
    "\n",
    "Начиная с сегодняшнего дня мы будем публиковать What We Watched: A Netflix Engagement Report два раза в год. Это всеобъемлющий отчет о том, что люди смотрели на Netflix за шестимесячный период1, в том числе:\n",
    "\n",
    "Часы просмотра для каждого названия - оригинального и лицензированного - смотрели более 50 000 часов2;\n",
    "\n",
    "Дата премьеры3 для любого сериала или фильма Netflix; и\n",
    "\n",
    "Было ли название доступно по всему миру.\n",
    "\n",
    "В общей сложности этот отчет охватывает более 18 000 наименований, что составляет 99% всех просмотров на Netflix, и почти 100 миллиардов часов просмотра.\n",
    "\n",
    "Более 60% названий Netflix, выпущенных в период с января по июнь 2023 года, появились в наших еженедельных списках Топ-10. Таким образом, хотя этот отчет имеет более широкий охват, тенденции, отраженные в нем, очень похожи на тенденции, включенные в список 10 лучших, в том числе:\n",
    "\n",
    "Сила возвращающихся фаворитов, таких как Джинни и Джорджия, Алиса в пограничной стране, Отмеченное сердце, Внешние банки, Ты, Королева Шарлотта: История Бриджертона, XO Китти и сиквелы фильмов Murder Mystery 2 и Extraction 2;\n",
    "\n",
    "Популярность новых сериалов, таких как The Night Agent, The Diplomat, Beef, The Glory, Alpha Males, FUBAR и Fake Profile, которые генерируют огромную аудиторию и фэндомы;\n",
    "\n",
    "Размер аудитории наших фильмов во всех жанрах, включая The Mother, Luther: The Fallen Sun, You People, AKA, ¡Que viva México! и голод;\n",
    "\n",
    "Энтузиазм к неанглийским историям, который вызвал 30% всех просмотров;\n",
    "\n",
    "Выдержка игр на Netflix, которая выходит далеко за рамки их премьер. All Quiet на Западном фронте, например, дебютировал в октябре 2022 года и собрал 80 мил часов в период с января по июнь; и\n",
    "\n",
    "Спрос на более старые, лицензированные названия, что создает огромную ценность для наших членов и правообладателей.\n",
    "\n",
    "При чтении отчета важно помнить:\n",
    "\n",
    "Успех на Netflix бывает всех форм и размеров и не определяется часами просмотра в одиночку. У нас есть чрезвычайно успешные фильмы и телешоу с более низкими и более высокими часами просмотра. Все дело в том, взволновал ли фильм или телешоу свою аудиторию - и размер этой аудитории по сравнению с экономикой названия; и\n",
    "\n",
    "Для сравнения между названиями лучше всего использовать наши еженедельные списки Топ-10 и Самые популярные списки, которые учитывают время выполнения и даты премьеры.\n",
    "\n",
    "Это большой шаг вперед для Netflix и нашей отрасли. Мы считаем, что информация о просмотре в этом отчете в сочетании с нашими еженедельными списками Топ-10 и Самых популярных - даст создателям и нашей отрасли более глубокое представление о нашей аудитории и о том, что резонирует с ними."
   ]
  },
  {
   "cell_type": "code",
   "execution_count": 36,
   "id": "cd81cc3b-5961-4e17-9dbf-5cb6305edc1c",
   "metadata": {
    "jupyter": {
     "source_hidden": true
    }
   },
   "outputs": [],
   "source": [
    "import pandas as pd\n",
    "import seaborn as sns\n",
    "import matplotlib.pyplot as plt"
   ]
  },
  {
   "cell_type": "code",
   "execution_count": 37,
   "id": "4cdd9e80-1e54-4e62-a221-ca5b5966ab13",
   "metadata": {
    "jupyter": {
     "source_hidden": true
    }
   },
   "outputs": [],
   "source": [
    "# Переменные\n",
    "\n",
    "a = 1000000 # Переменная для размера head\n",
    "\n",
    "b = 20 # Переменная для размера графика"
   ]
  },
  {
   "cell_type": "code",
   "execution_count": 38,
   "id": "1a42b1b2-6b94-4782-9bbe-a88beb33bc96",
   "metadata": {
    "jupyter": {
     "source_hidden": true
    },
    "tags": []
   },
   "outputs": [
    {
     "data": {
      "text/html": [
       "<div>\n",
       "<style scoped>\n",
       "    .dataframe tbody tr th:only-of-type {\n",
       "        vertical-align: middle;\n",
       "    }\n",
       "\n",
       "    .dataframe tbody tr th {\n",
       "        vertical-align: top;\n",
       "    }\n",
       "\n",
       "    .dataframe thead th {\n",
       "        text-align: right;\n",
       "    }\n",
       "</style>\n",
       "<table border=\"1\" class=\"dataframe\">\n",
       "  <thead>\n",
       "    <tr style=\"text-align: right;\">\n",
       "      <th></th>\n",
       "      <th>Title</th>\n",
       "      <th>Available Globally?</th>\n",
       "      <th>Release Date</th>\n",
       "      <th>Hours Viewed</th>\n",
       "      <th>Unnamed: 4</th>\n",
       "      <th>Unnamed: 5</th>\n",
       "    </tr>\n",
       "  </thead>\n",
       "  <tbody>\n",
       "    <tr>\n",
       "      <th>0</th>\n",
       "      <td>The Night Agent: Season 1</td>\n",
       "      <td>Yes</td>\n",
       "      <td>2023-03-23</td>\n",
       "      <td>812,100,000</td>\n",
       "      <td>NaN</td>\n",
       "      <td>NaN</td>\n",
       "    </tr>\n",
       "    <tr>\n",
       "      <th>1</th>\n",
       "      <td>Ginny &amp; Georgia: Season 2</td>\n",
       "      <td>Yes</td>\n",
       "      <td>2023-01-05</td>\n",
       "      <td>665,100,000</td>\n",
       "      <td>NaN</td>\n",
       "      <td>NaN</td>\n",
       "    </tr>\n",
       "    <tr>\n",
       "      <th>2</th>\n",
       "      <td>The Glory: Season 1 // 더 글로리: 시즌 1</td>\n",
       "      <td>Yes</td>\n",
       "      <td>2022-12-30</td>\n",
       "      <td>622,800,000</td>\n",
       "      <td>NaN</td>\n",
       "      <td>NaN</td>\n",
       "    </tr>\n",
       "    <tr>\n",
       "      <th>3</th>\n",
       "      <td>Wednesday: Season 1</td>\n",
       "      <td>Yes</td>\n",
       "      <td>2022-11-23</td>\n",
       "      <td>507,700,000</td>\n",
       "      <td>NaN</td>\n",
       "      <td>NaN</td>\n",
       "    </tr>\n",
       "    <tr>\n",
       "      <th>4</th>\n",
       "      <td>Queen Charlotte: A Bridgerton Story</td>\n",
       "      <td>Yes</td>\n",
       "      <td>2023-05-04</td>\n",
       "      <td>503,000,000</td>\n",
       "      <td>NaN</td>\n",
       "      <td>NaN</td>\n",
       "    </tr>\n",
       "    <tr>\n",
       "      <th>...</th>\n",
       "      <td>...</td>\n",
       "      <td>...</td>\n",
       "      <td>...</td>\n",
       "      <td>...</td>\n",
       "      <td>...</td>\n",
       "      <td>...</td>\n",
       "    </tr>\n",
       "    <tr>\n",
       "      <th>18215</th>\n",
       "      <td>NaN</td>\n",
       "      <td>NaN</td>\n",
       "      <td>NaN</td>\n",
       "      <td>NaN</td>\n",
       "      <td>NaN</td>\n",
       "      <td>NaN</td>\n",
       "    </tr>\n",
       "    <tr>\n",
       "      <th>18216</th>\n",
       "      <td>NaN</td>\n",
       "      <td>NaN</td>\n",
       "      <td>NaN</td>\n",
       "      <td>NaN</td>\n",
       "      <td>NaN</td>\n",
       "      <td>NaN</td>\n",
       "    </tr>\n",
       "    <tr>\n",
       "      <th>18217</th>\n",
       "      <td>NaN</td>\n",
       "      <td>NaN</td>\n",
       "      <td>NaN</td>\n",
       "      <td>NaN</td>\n",
       "      <td>NaN</td>\n",
       "      <td>NaN</td>\n",
       "    </tr>\n",
       "    <tr>\n",
       "      <th>18218</th>\n",
       "      <td>NaN</td>\n",
       "      <td>NaN</td>\n",
       "      <td>NaN</td>\n",
       "      <td>NaN</td>\n",
       "      <td>NaN</td>\n",
       "      <td>NaN</td>\n",
       "    </tr>\n",
       "    <tr>\n",
       "      <th>18219</th>\n",
       "      <td>NaN</td>\n",
       "      <td>NaN</td>\n",
       "      <td>NaN</td>\n",
       "      <td>NaN</td>\n",
       "      <td>NaN</td>\n",
       "      <td>NaN</td>\n",
       "    </tr>\n",
       "  </tbody>\n",
       "</table>\n",
       "<p>18220 rows × 6 columns</p>\n",
       "</div>"
      ],
      "text/plain": [
       "                                     Title Available Globally? Release Date  \\\n",
       "0                The Night Agent: Season 1                 Yes   2023-03-23   \n",
       "1                Ginny & Georgia: Season 2                 Yes   2023-01-05   \n",
       "2       The Glory: Season 1 // 더 글로리: 시즌 1                 Yes   2022-12-30   \n",
       "3                      Wednesday: Season 1                 Yes   2022-11-23   \n",
       "4      Queen Charlotte: A Bridgerton Story                 Yes   2023-05-04   \n",
       "...                                    ...                 ...          ...   \n",
       "18215                                  NaN                 NaN          NaN   \n",
       "18216                                  NaN                 NaN          NaN   \n",
       "18217                                  NaN                 NaN          NaN   \n",
       "18218                                  NaN                 NaN          NaN   \n",
       "18219                                  NaN                 NaN          NaN   \n",
       "\n",
       "      Hours Viewed  Unnamed: 4  Unnamed: 5  \n",
       "0      812,100,000         NaN         NaN  \n",
       "1      665,100,000         NaN         NaN  \n",
       "2      622,800,000         NaN         NaN  \n",
       "3      507,700,000         NaN         NaN  \n",
       "4      503,000,000         NaN         NaN  \n",
       "...            ...         ...         ...  \n",
       "18215          NaN         NaN         NaN  \n",
       "18216          NaN         NaN         NaN  \n",
       "18217          NaN         NaN         NaN  \n",
       "18218          NaN         NaN         NaN  \n",
       "18219          NaN         NaN         NaN  \n",
       "\n",
       "[18220 rows x 6 columns]"
      ]
     },
     "execution_count": 38,
     "metadata": {},
     "output_type": "execute_result"
    }
   ],
   "source": [
    "# Определите путь к файлу\n",
    "file_path = \"4_Отчет_о_взаимодействи_Netflix.csv\"\n",
    "\n",
    "# Загрузите данные в датафрейм\n",
    "input_raw = pd.read_csv(file_path)\n",
    "\n",
    "# Выведите первые несколько строк для проверки\n",
    "input_raw.head(a)"
   ]
  },
  {
   "cell_type": "code",
   "execution_count": 39,
   "id": "e89f30da-1ca2-43c0-b739-149511c38d5e",
   "metadata": {
    "jupyter": {
     "source_hidden": true
    },
    "tags": []
   },
   "outputs": [
    {
     "data": {
      "text/html": [
       "<div>\n",
       "<style scoped>\n",
       "    .dataframe tbody tr th:only-of-type {\n",
       "        vertical-align: middle;\n",
       "    }\n",
       "\n",
       "    .dataframe tbody tr th {\n",
       "        vertical-align: top;\n",
       "    }\n",
       "\n",
       "    .dataframe thead th {\n",
       "        text-align: right;\n",
       "    }\n",
       "</style>\n",
       "<table border=\"1\" class=\"dataframe\">\n",
       "  <thead>\n",
       "    <tr style=\"text-align: right;\">\n",
       "      <th></th>\n",
       "      <th>Title</th>\n",
       "      <th>Available Globally?</th>\n",
       "      <th>Release Date</th>\n",
       "      <th>Hours Viewed</th>\n",
       "    </tr>\n",
       "  </thead>\n",
       "  <tbody>\n",
       "    <tr>\n",
       "      <th>0</th>\n",
       "      <td>The Night Agent: Season 1</td>\n",
       "      <td>Yes</td>\n",
       "      <td>2023-03-23</td>\n",
       "      <td>812100000.0</td>\n",
       "    </tr>\n",
       "    <tr>\n",
       "      <th>1</th>\n",
       "      <td>Ginny &amp; Georgia: Season 2</td>\n",
       "      <td>Yes</td>\n",
       "      <td>2023-01-05</td>\n",
       "      <td>665100000.0</td>\n",
       "    </tr>\n",
       "    <tr>\n",
       "      <th>2</th>\n",
       "      <td>The Glory: Season 1 // 더 글로리: 시즌 1</td>\n",
       "      <td>Yes</td>\n",
       "      <td>2022-12-30</td>\n",
       "      <td>622800000.0</td>\n",
       "    </tr>\n",
       "    <tr>\n",
       "      <th>3</th>\n",
       "      <td>Wednesday: Season 1</td>\n",
       "      <td>Yes</td>\n",
       "      <td>2022-11-23</td>\n",
       "      <td>507700000.0</td>\n",
       "    </tr>\n",
       "    <tr>\n",
       "      <th>4</th>\n",
       "      <td>Queen Charlotte: A Bridgerton Story</td>\n",
       "      <td>Yes</td>\n",
       "      <td>2023-05-04</td>\n",
       "      <td>503000000.0</td>\n",
       "    </tr>\n",
       "    <tr>\n",
       "      <th>...</th>\n",
       "      <td>...</td>\n",
       "      <td>...</td>\n",
       "      <td>...</td>\n",
       "      <td>...</td>\n",
       "    </tr>\n",
       "    <tr>\n",
       "      <th>18209</th>\n",
       "      <td>راس السنة</td>\n",
       "      <td>No</td>\n",
       "      <td>NaT</td>\n",
       "      <td>100000.0</td>\n",
       "    </tr>\n",
       "    <tr>\n",
       "      <th>18210</th>\n",
       "      <td>心が叫びたがってるんだ。</td>\n",
       "      <td>No</td>\n",
       "      <td>NaT</td>\n",
       "      <td>100000.0</td>\n",
       "    </tr>\n",
       "    <tr>\n",
       "      <th>18211</th>\n",
       "      <td>두근두근 내 인생</td>\n",
       "      <td>No</td>\n",
       "      <td>NaT</td>\n",
       "      <td>100000.0</td>\n",
       "    </tr>\n",
       "    <tr>\n",
       "      <th>18212</th>\n",
       "      <td>라디오 스타</td>\n",
       "      <td>No</td>\n",
       "      <td>NaT</td>\n",
       "      <td>100000.0</td>\n",
       "    </tr>\n",
       "    <tr>\n",
       "      <th>18213</th>\n",
       "      <td>선생 김봉두</td>\n",
       "      <td>No</td>\n",
       "      <td>NaT</td>\n",
       "      <td>100000.0</td>\n",
       "    </tr>\n",
       "  </tbody>\n",
       "</table>\n",
       "<p>18214 rows × 4 columns</p>\n",
       "</div>"
      ],
      "text/plain": [
       "                                     Title Available Globally? Release Date  \\\n",
       "0                The Night Agent: Season 1                 Yes   2023-03-23   \n",
       "1                Ginny & Georgia: Season 2                 Yes   2023-01-05   \n",
       "2       The Glory: Season 1 // 더 글로리: 시즌 1                 Yes   2022-12-30   \n",
       "3                      Wednesday: Season 1                 Yes   2022-11-23   \n",
       "4      Queen Charlotte: A Bridgerton Story                 Yes   2023-05-04   \n",
       "...                                    ...                 ...          ...   \n",
       "18209                            راس السنة                  No          NaT   \n",
       "18210                         心が叫びたがってるんだ。                  No          NaT   \n",
       "18211                            두근두근 내 인생                  No          NaT   \n",
       "18212                               라디오 스타                  No          NaT   \n",
       "18213                               선생 김봉두                  No          NaT   \n",
       "\n",
       "       Hours Viewed  \n",
       "0       812100000.0  \n",
       "1       665100000.0  \n",
       "2       622800000.0  \n",
       "3       507700000.0  \n",
       "4       503000000.0  \n",
       "...             ...  \n",
       "18209      100000.0  \n",
       "18210      100000.0  \n",
       "18211      100000.0  \n",
       "18212      100000.0  \n",
       "18213      100000.0  \n",
       "\n",
       "[18214 rows x 4 columns]"
      ]
     },
     "execution_count": 39,
     "metadata": {},
     "output_type": "execute_result"
    }
   ],
   "source": [
    "# Удаление колонок Unnamed: 4 и Unnamed: 5\n",
    "input_raw = input_raw.drop(['Unnamed: 4', 'Unnamed: 5'], axis=1)\n",
    "\n",
    "# Удаление строк, где в колонке Title ничего нет\n",
    "input_raw = input_raw.dropna(subset=['Title'])\n",
    "\n",
    "# Преобразование столбца Release Date в формат даты\n",
    "input_raw['Release Date'] = pd.to_datetime(input_raw['Release Date'], format='%Y-%m-%d', errors='coerce')\n",
    "\n",
    "# Преобразование столбца Hours Viewed в тип float\n",
    "input_raw['Hours Viewed'] = input_raw['Hours Viewed'].replace(',', '', regex=True).astype(float)\n",
    "\n",
    "# Вывод обновленного датафрейма\n",
    "input_raw.head(a)"
   ]
  },
  {
   "cell_type": "code",
   "execution_count": 44,
   "id": "ce0a366b-a960-4138-9e9b-311fa052809f",
   "metadata": {
    "jupyter": {
     "source_hidden": true
    },
    "tags": []
   },
   "outputs": [],
   "source": [
    "#input_raw.dtypes"
   ]
  },
  {
   "cell_type": "code",
   "execution_count": 41,
   "id": "aa343264-48a7-4a1b-a4ce-f49d4ff267c6",
   "metadata": {
    "jupyter": {
     "source_hidden": true
    },
    "tags": []
   },
   "outputs": [
    {
     "data": {
      "text/html": [
       "<div>\n",
       "<style scoped>\n",
       "    .dataframe tbody tr th:only-of-type {\n",
       "        vertical-align: middle;\n",
       "    }\n",
       "\n",
       "    .dataframe tbody tr th {\n",
       "        vertical-align: top;\n",
       "    }\n",
       "\n",
       "    .dataframe thead th {\n",
       "        text-align: right;\n",
       "    }\n",
       "</style>\n",
       "<table border=\"1\" class=\"dataframe\">\n",
       "  <thead>\n",
       "    <tr style=\"text-align: right;\">\n",
       "      <th></th>\n",
       "      <th>Release Date</th>\n",
       "      <th>Hours Viewed</th>\n",
       "    </tr>\n",
       "  </thead>\n",
       "  <tbody>\n",
       "    <tr>\n",
       "      <th>count</th>\n",
       "      <td>4855</td>\n",
       "      <td>1.821400e+04</td>\n",
       "    </tr>\n",
       "    <tr>\n",
       "      <th>mean</th>\n",
       "      <td>2020-05-09 13:39:48.383110144</td>\n",
       "      <td>5.130954e+06</td>\n",
       "    </tr>\n",
       "    <tr>\n",
       "      <th>min</th>\n",
       "      <td>2010-04-01 00:00:00</td>\n",
       "      <td>1.000000e+05</td>\n",
       "    </tr>\n",
       "    <tr>\n",
       "      <th>25%</th>\n",
       "      <td>2018-11-30 00:00:00</td>\n",
       "      <td>2.000000e+05</td>\n",
       "    </tr>\n",
       "    <tr>\n",
       "      <th>50%</th>\n",
       "      <td>2020-08-04 00:00:00</td>\n",
       "      <td>7.000000e+05</td>\n",
       "    </tr>\n",
       "    <tr>\n",
       "      <th>75%</th>\n",
       "      <td>2022-02-04 00:00:00</td>\n",
       "      <td>3.400000e+06</td>\n",
       "    </tr>\n",
       "    <tr>\n",
       "      <th>max</th>\n",
       "      <td>2023-06-30 00:00:00</td>\n",
       "      <td>8.121000e+08</td>\n",
       "    </tr>\n",
       "    <tr>\n",
       "      <th>std</th>\n",
       "      <td>NaN</td>\n",
       "      <td>1.871767e+07</td>\n",
       "    </tr>\n",
       "  </tbody>\n",
       "</table>\n",
       "</div>"
      ],
      "text/plain": [
       "                        Release Date  Hours Viewed\n",
       "count                           4855  1.821400e+04\n",
       "mean   2020-05-09 13:39:48.383110144  5.130954e+06\n",
       "min              2010-04-01 00:00:00  1.000000e+05\n",
       "25%              2018-11-30 00:00:00  2.000000e+05\n",
       "50%              2020-08-04 00:00:00  7.000000e+05\n",
       "75%              2022-02-04 00:00:00  3.400000e+06\n",
       "max              2023-06-30 00:00:00  8.121000e+08\n",
       "std                              NaN  1.871767e+07"
      ]
     },
     "execution_count": 41,
     "metadata": {},
     "output_type": "execute_result"
    }
   ],
   "source": [
    "input_raw.describe()"
   ]
  },
  {
   "cell_type": "code",
   "execution_count": 45,
   "id": "3a069daa-4531-4fff-a62f-cb6f5047c38c",
   "metadata": {
    "jupyter": {
     "source_hidden": true
    },
    "tags": []
   },
   "outputs": [
    {
     "data": {
      "image/png": "[encoded data removed]",
      "text/plain": [
       "<Figure size 600x600 with 2 Axes>"
      ]
     },
     "metadata": {},
     "output_type": "display_data"
    }
   ],
   "source": [
    "df = input_raw.copy(deep = True)\n",
    "# Предположим, что ваш датафрейм df уже загружен\n",
    "\n",
    "# Замените \"Yes\" и \"No\" на 1 и 0 соответственно в столбце \"Available Globally?\"\n",
    "df['Available Globally?'] = df['Available Globally?'].map({'Yes': 1, 'No': 0})\n",
    "\n",
    "# Построение тепловой карты\n",
    "plt.figure(figsize=(b * 0.3, b * 0.3))\n",
    "heatmap_data = df[['Available Globally?', 'Hours Viewed']]\n",
    "heatmap = sns.heatmap(heatmap_data.corr(), annot=True, cmap='coolwarm', fmt='.2f')\n",
    "\n",
    "# Настройка внешнего вида графика\n",
    "plt.title('Тепловая карта зависимостей между показами во всём мире и общим временем просмотра')\n",
    "plt.show()"
   ]
  },
  {
   "cell_type": "markdown",
   "id": "adbcda86-66ab-4156-b01d-d0dd1c949b15",
   "metadata": {},
   "source": [
    "**Общее время просмотра не зависит от того, показывает фильм во всём мире или нет**"
   ]
  },
  {
   "cell_type": "code",
   "execution_count": 46,
   "id": "3a88671d-3741-4825-9dc7-b65286b8558c",
   "metadata": {
    "jupyter": {
     "source_hidden": true
    },
    "tags": []
   },
   "outputs": [
    {
     "data": {
      "image/png": "[encoded data removed]",
      "text/plain": [
       "<Figure size 2000x600 with 1 Axes>"
      ]
     },
     "metadata": {},
     "output_type": "display_data"
    }
   ],
   "source": [
    "df = input_raw.copy(deep=True)\n",
    "\n",
    "# Настройка размера графика\n",
    "fig, ax = plt.subplots(figsize=(b, b * 0.3))\n",
    "\n",
    "# Построение точечного графика\n",
    "scatter = ax.scatter(df.index, df['Hours Viewed'], c='blue', marker='o', label='Часы просмотра')\n",
    "\n",
    "# Добавление сетки\n",
    "ax.grid(True)\n",
    "\n",
    "# Настройка подписей на русском языке\n",
    "ax.set_xlabel('Индекс')\n",
    "ax.set_ylabel('Часы просмотра')\n",
    "\n",
    "# Установка меток на оси y\n",
    "plt.yticks([0, 100_000_000, 200_000_000, 300_000_000, 400_000_000, 500_000_000, 600_000_000, 700_000_000, 800_000_000],\n",
    "           ['0', '100 млн', '200 млн', '300 млн', '400 млн', '500 млн', '600 млн', '700 млн', '800 млн'])\n",
    "\n",
    "# Добавление легенды\n",
    "ax.legend()\n",
    "\n",
    "# Добавление названия графика\n",
    "ax.set_title('График часов просмотра')\n",
    "\n",
    "# Отображение графика\n",
    "plt.show()"
   ]
  },
  {
   "cell_type": "markdown",
   "id": "7da26bb5-1982-42a6-82a6-737f0064ff2d",
   "metadata": {},
   "source": [
    "**Более 100 млн. часов просмотра есть у менее чем 1000 фильмов.** "
   ]
  },
  {
   "cell_type": "code",
   "execution_count": null,
   "id": "80f0d74c-1337-44c6-94bb-7ffb858d94cb",
   "metadata": {
    "jupyter": {
     "source_hidden": true
    }
   },
   "outputs": [],
   "source": []
  }
 ],
 "metadata": {
  "kernelspec": {
   "display_name": "Python 3 (ipykernel)",
   "language": "python",
   "name": "python3"
  },
  "language_info": {
   "codemirror_mode": {
    "name": "ipython",
    "version": 3
   },
   "file_extension": ".py",
   "mimetype": "text/x-python",
   "name": "python",
   "nbconvert_exporter": "python",
   "pygments_lexer": "ipython3",
   "version": "3.11.5"
  }
 },
 "nbformat": 4,
 "nbformat_minor": 5
}
